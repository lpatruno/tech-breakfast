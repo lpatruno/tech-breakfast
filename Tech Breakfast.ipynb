{
 "cells": [
  {
   "cell_type": "code",
   "execution_count": 12,
   "metadata": {
    "collapsed": false
   },
   "outputs": [],
   "source": [
    "import numpy as np\n",
    "from sklearn.cross_validation import train_test_split\n",
    "\n",
    "from data import load_df"
   ]
  },
  {
   "cell_type": "code",
   "execution_count": 21,
   "metadata": {
    "collapsed": true
   },
   "outputs": [],
   "source": [
    "#  Load the dataset\n",
    "df = load_df()"
   ]
  },
  {
   "cell_type": "code",
   "execution_count": 6,
   "metadata": {
    "collapsed": false
   },
   "outputs": [
    {
     "data": {
      "text/html": [
       "<div>\n",
       "<table border=\"1\" class=\"dataframe\">\n",
       "  <thead>\n",
       "    <tr style=\"text-align: right;\">\n",
       "      <th></th>\n",
       "      <th>age</th>\n",
       "      <th>workclass</th>\n",
       "      <th>fnlwgt</th>\n",
       "      <th>education</th>\n",
       "      <th>education-num</th>\n",
       "      <th>marital-status</th>\n",
       "      <th>occupation</th>\n",
       "      <th>relationship</th>\n",
       "      <th>race</th>\n",
       "      <th>sex</th>\n",
       "      <th>capital-gain</th>\n",
       "      <th>capital-loss</th>\n",
       "      <th>hours-per-week</th>\n",
       "      <th>native-country</th>\n",
       "      <th>class</th>\n",
       "    </tr>\n",
       "  </thead>\n",
       "  <tbody>\n",
       "    <tr>\n",
       "      <th>0</th>\n",
       "      <td>39</td>\n",
       "      <td>State-gov</td>\n",
       "      <td>77516</td>\n",
       "      <td>Bachelors</td>\n",
       "      <td>13</td>\n",
       "      <td>Never-married</td>\n",
       "      <td>Adm-clerical</td>\n",
       "      <td>Not-in-family</td>\n",
       "      <td>White</td>\n",
       "      <td>Male</td>\n",
       "      <td>2174</td>\n",
       "      <td>0</td>\n",
       "      <td>40</td>\n",
       "      <td>United-States</td>\n",
       "      <td>0</td>\n",
       "    </tr>\n",
       "    <tr>\n",
       "      <th>1</th>\n",
       "      <td>50</td>\n",
       "      <td>Self-emp-not-inc</td>\n",
       "      <td>83311</td>\n",
       "      <td>Bachelors</td>\n",
       "      <td>13</td>\n",
       "      <td>Married-civ-spouse</td>\n",
       "      <td>Exec-managerial</td>\n",
       "      <td>Husband</td>\n",
       "      <td>White</td>\n",
       "      <td>Male</td>\n",
       "      <td>0</td>\n",
       "      <td>0</td>\n",
       "      <td>13</td>\n",
       "      <td>United-States</td>\n",
       "      <td>0</td>\n",
       "    </tr>\n",
       "    <tr>\n",
       "      <th>2</th>\n",
       "      <td>38</td>\n",
       "      <td>Private</td>\n",
       "      <td>215646</td>\n",
       "      <td>HS-grad</td>\n",
       "      <td>9</td>\n",
       "      <td>Divorced</td>\n",
       "      <td>Handlers-cleaners</td>\n",
       "      <td>Not-in-family</td>\n",
       "      <td>White</td>\n",
       "      <td>Male</td>\n",
       "      <td>0</td>\n",
       "      <td>0</td>\n",
       "      <td>40</td>\n",
       "      <td>United-States</td>\n",
       "      <td>0</td>\n",
       "    </tr>\n",
       "  </tbody>\n",
       "</table>\n",
       "</div>"
      ],
      "text/plain": [
       "   age         workclass  fnlwgt  education  education-num  \\\n",
       "0   39         State-gov   77516  Bachelors             13   \n",
       "1   50  Self-emp-not-inc   83311  Bachelors             13   \n",
       "2   38           Private  215646    HS-grad              9   \n",
       "\n",
       "       marital-status         occupation   relationship   race   sex  \\\n",
       "0       Never-married       Adm-clerical  Not-in-family  White  Male   \n",
       "1  Married-civ-spouse    Exec-managerial        Husband  White  Male   \n",
       "2            Divorced  Handlers-cleaners  Not-in-family  White  Male   \n",
       "\n",
       "   capital-gain  capital-loss  hours-per-week native-country  class  \n",
       "0          2174             0              40  United-States      0  \n",
       "1             0             0              13  United-States      0  \n",
       "2             0             0              40  United-States      0  "
      ]
     },
     "execution_count": 6,
     "metadata": {},
     "output_type": "execute_result"
    }
   ],
   "source": [
    "df.head(3)"
   ]
  },
  {
   "cell_type": "code",
   "execution_count": 7,
   "metadata": {
    "collapsed": false
   },
   "outputs": [
    {
     "data": {
      "text/plain": [
       "(32561, 15)"
      ]
     },
     "execution_count": 7,
     "metadata": {},
     "output_type": "execute_result"
    }
   ],
   "source": [
    "df.shape"
   ]
  },
  {
   "cell_type": "code",
   "execution_count": 8,
   "metadata": {
    "collapsed": false
   },
   "outputs": [
    {
     "name": "stdout",
     "output_type": "stream",
     "text": [
      "Number of rows: 32561\n",
      "Number of columns: 15\n"
     ]
    }
   ],
   "source": [
    "print('Number of rows: {}'.format(df.shape[0]))\n",
    "print('Number of columns: {}'.format(df.shape[1]))"
   ]
  },
  {
   "cell_type": "code",
   "execution_count": 68,
   "metadata": {
    "collapsed": false
   },
   "outputs": [
    {
     "data": {
      "text/html": [
       "<div>\n",
       "<table border=\"1\" class=\"dataframe\">\n",
       "  <thead>\n",
       "    <tr style=\"text-align: right;\">\n",
       "      <th></th>\n",
       "      <th>age</th>\n",
       "      <th>workclass</th>\n",
       "      <th>fnlwgt</th>\n",
       "      <th>education</th>\n",
       "      <th>education-num</th>\n",
       "      <th>marital-status</th>\n",
       "      <th>occupation</th>\n",
       "      <th>relationship</th>\n",
       "      <th>race</th>\n",
       "      <th>sex</th>\n",
       "      <th>capital-gain</th>\n",
       "      <th>capital-loss</th>\n",
       "      <th>hours-per-week</th>\n",
       "      <th>native-country</th>\n",
       "    </tr>\n",
       "  </thead>\n",
       "  <tbody>\n",
       "    <tr>\n",
       "      <th>0</th>\n",
       "      <td>39</td>\n",
       "      <td>State-gov</td>\n",
       "      <td>77516</td>\n",
       "      <td>Bachelors</td>\n",
       "      <td>13</td>\n",
       "      <td>Never-married</td>\n",
       "      <td>Adm-clerical</td>\n",
       "      <td>Not-in-family</td>\n",
       "      <td>White</td>\n",
       "      <td>Male</td>\n",
       "      <td>2174</td>\n",
       "      <td>0</td>\n",
       "      <td>40</td>\n",
       "      <td>United-States</td>\n",
       "    </tr>\n",
       "    <tr>\n",
       "      <th>1</th>\n",
       "      <td>50</td>\n",
       "      <td>Self-emp-not-inc</td>\n",
       "      <td>83311</td>\n",
       "      <td>Bachelors</td>\n",
       "      <td>13</td>\n",
       "      <td>Married-civ-spouse</td>\n",
       "      <td>Exec-managerial</td>\n",
       "      <td>Husband</td>\n",
       "      <td>White</td>\n",
       "      <td>Male</td>\n",
       "      <td>0</td>\n",
       "      <td>0</td>\n",
       "      <td>13</td>\n",
       "      <td>United-States</td>\n",
       "    </tr>\n",
       "    <tr>\n",
       "      <th>2</th>\n",
       "      <td>38</td>\n",
       "      <td>Private</td>\n",
       "      <td>215646</td>\n",
       "      <td>HS-grad</td>\n",
       "      <td>9</td>\n",
       "      <td>Divorced</td>\n",
       "      <td>Handlers-cleaners</td>\n",
       "      <td>Not-in-family</td>\n",
       "      <td>White</td>\n",
       "      <td>Male</td>\n",
       "      <td>0</td>\n",
       "      <td>0</td>\n",
       "      <td>40</td>\n",
       "      <td>United-States</td>\n",
       "    </tr>\n",
       "    <tr>\n",
       "      <th>3</th>\n",
       "      <td>53</td>\n",
       "      <td>Private</td>\n",
       "      <td>234721</td>\n",
       "      <td>11th</td>\n",
       "      <td>7</td>\n",
       "      <td>Married-civ-spouse</td>\n",
       "      <td>Handlers-cleaners</td>\n",
       "      <td>Husband</td>\n",
       "      <td>Black</td>\n",
       "      <td>Male</td>\n",
       "      <td>0</td>\n",
       "      <td>0</td>\n",
       "      <td>40</td>\n",
       "      <td>United-States</td>\n",
       "    </tr>\n",
       "    <tr>\n",
       "      <th>4</th>\n",
       "      <td>28</td>\n",
       "      <td>Private</td>\n",
       "      <td>338409</td>\n",
       "      <td>Bachelors</td>\n",
       "      <td>13</td>\n",
       "      <td>Married-civ-spouse</td>\n",
       "      <td>Prof-specialty</td>\n",
       "      <td>Wife</td>\n",
       "      <td>Black</td>\n",
       "      <td>Female</td>\n",
       "      <td>0</td>\n",
       "      <td>0</td>\n",
       "      <td>40</td>\n",
       "      <td>Cuba</td>\n",
       "    </tr>\n",
       "  </tbody>\n",
       "</table>\n",
       "</div>"
      ],
      "text/plain": [
       "   age         workclass  fnlwgt  education  education-num  \\\n",
       "0   39         State-gov   77516  Bachelors             13   \n",
       "1   50  Self-emp-not-inc   83311  Bachelors             13   \n",
       "2   38           Private  215646    HS-grad              9   \n",
       "3   53           Private  234721       11th              7   \n",
       "4   28           Private  338409  Bachelors             13   \n",
       "\n",
       "       marital-status         occupation   relationship   race     sex  \\\n",
       "0       Never-married       Adm-clerical  Not-in-family  White    Male   \n",
       "1  Married-civ-spouse    Exec-managerial        Husband  White    Male   \n",
       "2            Divorced  Handlers-cleaners  Not-in-family  White    Male   \n",
       "3  Married-civ-spouse  Handlers-cleaners        Husband  Black    Male   \n",
       "4  Married-civ-spouse     Prof-specialty           Wife  Black  Female   \n",
       "\n",
       "   capital-gain  capital-loss  hours-per-week native-country  \n",
       "0          2174             0              40  United-States  \n",
       "1             0             0              13  United-States  \n",
       "2             0             0              40  United-States  \n",
       "3             0             0              40  United-States  \n",
       "4             0             0              40           Cuba  "
      ]
     },
     "execution_count": 68,
     "metadata": {},
     "output_type": "execute_result"
    }
   ],
   "source": [
    "# Use a list comprehension to filter out the 'class' column\n",
    "features = [column for column in df if column != 'class']\n",
    "\n",
    "# Display each feature for the first 5 rows of data\n",
    "df[features].head(5)"
   ]
  },
  {
   "cell_type": "code",
   "execution_count": 11,
   "metadata": {
    "collapsed": false
   },
   "outputs": [
    {
     "data": {
      "text/html": [
       "<div>\n",
       "<table border=\"1\" class=\"dataframe\">\n",
       "  <thead>\n",
       "    <tr style=\"text-align: right;\">\n",
       "      <th></th>\n",
       "      <th>class</th>\n",
       "    </tr>\n",
       "  </thead>\n",
       "  <tbody>\n",
       "    <tr>\n",
       "      <th>0</th>\n",
       "      <td>0</td>\n",
       "    </tr>\n",
       "    <tr>\n",
       "      <th>1</th>\n",
       "      <td>0</td>\n",
       "    </tr>\n",
       "    <tr>\n",
       "      <th>2</th>\n",
       "      <td>0</td>\n",
       "    </tr>\n",
       "    <tr>\n",
       "      <th>3</th>\n",
       "      <td>0</td>\n",
       "    </tr>\n",
       "    <tr>\n",
       "      <th>4</th>\n",
       "      <td>0</td>\n",
       "    </tr>\n",
       "  </tbody>\n",
       "</table>\n",
       "</div>"
      ],
      "text/plain": [
       "   class\n",
       "0      0\n",
       "1      0\n",
       "2      0\n",
       "3      0\n",
       "4      0"
      ]
     },
     "execution_count": 11,
     "metadata": {},
     "output_type": "execute_result"
    }
   ],
   "source": [
    "# Let's look at the class labels for each of the first 5 rows\n",
    "df[['class']].head(5)"
   ]
  },
  {
   "cell_type": "code",
   "execution_count": 13,
   "metadata": {
    "collapsed": true
   },
   "outputs": [],
   "source": [
    "class NaiveBayes:\n",
    "    \"\"\"\n",
    "    Implementation of Naive Bayes classifier.\n",
    "    \"\"\"\n",
    "    \n",
    "    def __init__(self):\n",
    "        \"\"\"\n",
    "        Constructor for NaiveBayes object.\n",
    "        \"\"\"\n",
    "        pass\n",
    "    \n",
    "    def classify(self):\n",
    "        \"\"\"\n",
    "        Classify new data instances using the NaiveBayes model parameters\n",
    "        fit through the learn object method.\n",
    "        \"\"\"\n",
    "        pass\n",
    "    \n",
    "    def learn(self):\n",
    "        \"\"\"\n",
    "        Learn the NaiveBayes model parameters from training data.\n",
    "        \"\"\"\n",
    "        pass\n",
    "    \n",
    "    def score(self):\n",
    "        \"\"\"\n",
    "        Return the classification accuracy obtained from classifying \n",
    "        a set of testing data using the learned Naive Bayes parameters.\n",
    "        \"\"\"\n",
    "        pass"
   ]
  },
  {
   "cell_type": "code",
   "execution_count": 60,
   "metadata": {
    "collapsed": true
   },
   "outputs": [],
   "source": [
    "class NaiveBayes:\n",
    "    \n",
    "    def __init__(self):\n",
    "        \"\"\"\n",
    "        Constructor for NaiveBayes object.\n",
    "        \"\"\"\n",
    "        # Dict to hold learned parameters\n",
    "        self._parameters = None\n",
    "        self._prob_0 = None\n",
    "        self._prob_1 = None\n",
    "        pass\n",
    "    \n",
    "    def classify(self, samples):\n",
    "        \"\"\"\n",
    "        Classify new data instances using the NaiveBayes model parameters\n",
    "        fit through the learn object method.\n",
    "        \"\"\"\n",
    "        if self._parameters is None:\n",
    "            raise ValueError('Please train the NaiveBayes model on training data' + \n",
    "                            'before calling the classify method.')\n",
    "            \n",
    "        # Bind shorter name to refer to the learned parameters\n",
    "        parameters = self._parameters\n",
    "            \n",
    "        # Create a list of dicts where the keys are the feature names\n",
    "        # and the values are the value the feature takes on for the sample\n",
    "        df = samples.to_dict(orient='records')\n",
    "        \n",
    "        # Initialize list to store classifications\n",
    "        predictions = []\n",
    "        \n",
    "        # loop through each of the data points\n",
    "        for data_point in df:\n",
    "            \n",
    "            # Initialize empty lists to store conditional probabilities\n",
    "            # for each feature for the current data point\n",
    "            class_0 = [self._prob_0]\n",
    "            class_1 = [self._prob_1]\n",
    "            \n",
    "            # Loop through each of the learned features\n",
    "            for feature in parameters:\n",
    "                \n",
    "                if feature not in data_point:\n",
    "                    raise Exception('Data missing learned features.')\n",
    "                    \n",
    "                # Value the feature takes on\n",
    "                value = data_point[feature]\n",
    "                \n",
    "                if samples[feature].dtype == 'O':\n",
    "                    # Return dict containing multinomial model params\n",
    "                    # with default value of {0:0, 1:0} if that value wasn't\n",
    "                    # encountered in the training data\n",
    "                    #params = parameters[feature].get(value, {0:0, 1:0})\n",
    "                    params = parameters[feature][value]\n",
    "                    \n",
    "                    class_0.append(params[0])\n",
    "                    class_1.append(params[1])\n",
    "                    \n",
    "                else:\n",
    "                    c0_mean_std = parameters[feature][0]\n",
    "                    c1_mean_std = parameters[feature][1]\n",
    "                    \n",
    "                    class_0.append( self._gaussian_pdf(value, c0_mean_std['mean'], c0_mean_std['std']))\n",
    "                    class_1.append( self._gaussian_pdf(value, c1_mean_std['mean'], c1_mean_std['std']))\n",
    "                    \n",
    "            \n",
    "            if np.prod(class_0) > np.prod(class_1):\n",
    "                predictions.append(0)\n",
    "            else:\n",
    "                predictions.append(1)\n",
    "                        \n",
    "        return predictions\n",
    "\n",
    "    \n",
    "    def learn(self, train):\n",
    "        \"\"\"\n",
    "        Learn the NaiveBayes model parameters from training data.\n",
    "        \"\"\"\n",
    "        df = train\n",
    "        \n",
    "        self._parameters = {}\n",
    "        \n",
    "        # List of features implicitly defined in the dataframe\n",
    "        features = [col for col in df if col != 'class']\n",
    "        \n",
    "        # Number of samples falling into each class\n",
    "        num_class_0 = df[ df['class'] == 0 ].shape[0]\n",
    "        num_class_1 = df[ df['class'] == 1 ].shape[0]\n",
    "        \n",
    "        # Store the class probabilities\n",
    "        self._prob_0 = (num_class_0 / float(df.shape[0]))\n",
    "        self._prob_1 = (num_class_1 / float(df.shape[0]))\n",
    "                    \n",
    "        \n",
    "        for feature in features:\n",
    "            \n",
    "            # If feature is categorical, learn the percentage of data\n",
    "            # that takes on each value, per class to define a multinomial\n",
    "            # distribution\n",
    "            \n",
    "            if df[feature].dtype == 'O':\n",
    "                \n",
    "                conditional_probs = {}\n",
    "                \n",
    "                for value in df[feature].unique():  \n",
    "                    \n",
    "                    # Fraction of each class where the feature equals the value\n",
    "                    class_0_prob = df[ (df[feature] == value) & (df['class'] == 0) ].shape[0] / float(num_class_0)\n",
    "                    class_1_prob = df[ (df[feature] == value) & (df['class'] == 1) ].shape[0] / float(num_class_1)\n",
    "                    \n",
    "                    conditional_probs[value] = {0 : class_0_prob, 1 : class_1_prob}\n",
    "                    \n",
    "                # Store the learned params for the particular feature\n",
    "                self._parameters[feature] = conditional_probs\n",
    "                \n",
    "            # If feature is numerical, learn feature mean and standard deviation\n",
    "            # to specify a normal distribution\n",
    "            \n",
    "            else:\n",
    "                class_0_mean = df[ df['class'] == 0 ][feature].mean()\n",
    "                class_0_std = df[ df['class'] == 0 ][feature].std()\n",
    "                \n",
    "                class_1_mean = df[ df['class'] == 1 ][feature].mean()\n",
    "                class_1_std = df[ df['class'] == 1 ][feature].std()\n",
    "\n",
    "                self._parameters[feature] = {0:{'mean': class_0_mean, 'std': class_0_std},\n",
    "                                            1: {'mean': class_1_mean, 'std': class_1_std}}\n",
    "                \n",
    "        #print('Probability class 0: {}'.format(self._prob_0 * 100))\n",
    "        #print('Probability class 1: {}'.format(self._prob_1 * 100))\n",
    "        #print('Learned parameters: {}'.format(self._parameters))\n",
    "\n",
    "    \n",
    "    def score(self, samples):\n",
    "        \"\"\"\n",
    "        Return the classification error obtained from classifying \n",
    "        a set of testing data using the learned Naive Bayes parameters.\n",
    "        \"\"\"\n",
    "        y_true = samples['class'].tolist()\n",
    "        y_pred = self.classify(samples)\n",
    "        \n",
    "        return (1-np.mean( np.array(y_true) == np.array(y_pred) ))\n",
    "    \n",
    "    \n",
    "    def _gaussian_pdf(self, x, mu, sigma):\n",
    "        \"\"\"\n",
    "        Returns the probability of a point x according to a Gaussian distribution\n",
    "        with mean mu and standard deviation sigma.\n",
    "        \"\"\"\n",
    "        return 1/(sigma * np.sqrt(2 * np.pi))*np.exp( - (x - mu)**2 / (2 * sigma**2) )"
   ]
  },
  {
   "cell_type": "code",
   "execution_count": 63,
   "metadata": {
    "collapsed": true
   },
   "outputs": [],
   "source": [
    "def train_test_model(_train, _test, features):\n",
    "    \n",
    "    # Get relevant subset of data\n",
    "    train = _train.copy()[features + ['class']]\n",
    "    test = _test.copy()[features + ['class']]\n",
    "    \n",
    "    # Initialize object\n",
    "    nb = NaiveBayes()\n",
    "    \n",
    "    # Train model\n",
    "    nb.learn(train)\n",
    "    \n",
    "    # Evaluate on test set\n",
    "    print('NaiveBayes model with features: {}'.format(features))\n",
    "    print('Test error: {}'.format(nb.score(test)*100))"
   ]
  },
  {
   "cell_type": "code",
   "execution_count": 52,
   "metadata": {
    "collapsed": true
   },
   "outputs": [],
   "source": [
    "# Split data into training and testing split\n",
    "train, test = train_test_split(df, train_size=.7, random_state=42)"
   ]
  },
  {
   "cell_type": "code",
   "execution_count": 64,
   "metadata": {
    "collapsed": false
   },
   "outputs": [
    {
     "name": "stdout",
     "output_type": "stream",
     "text": [
      "NaiveBayes model with features: ['age']\n",
      "Test error: 23.687173712764864\n"
     ]
    }
   ],
   "source": [
    "train_test_model(train, test, ['age'])"
   ]
  },
  {
   "cell_type": "code",
   "execution_count": 65,
   "metadata": {
    "collapsed": false
   },
   "outputs": [
    {
     "name": "stdout",
     "output_type": "stream",
     "text": [
      "NaiveBayes model with features: ['age', 'education']\n",
      "Test error: 20.800491350189375\n"
     ]
    }
   ],
   "source": [
    "train_test_model(train, test, ['age', 'education'])"
   ]
  },
  {
   "cell_type": "code",
   "execution_count": 67,
   "metadata": {
    "collapsed": false
   },
   "outputs": [
    {
     "name": "stdout",
     "output_type": "stream",
     "text": [
      "NaiveBayes model with features: ['age']\n",
      "Test error: 23.687173712764864\n",
      "\n",
      "NaiveBayes model with features: ['workclass']\n",
      "Test error: 23.328897533012594\n",
      "\n",
      "NaiveBayes model with features: ['fnlwgt']\n",
      "Test error: 23.687173712764864\n",
      "\n",
      "NaiveBayes model with features: ['education']\n",
      "Test error: 21.772955266659842\n",
      "\n",
      "NaiveBayes model with features: ['education-num']\n",
      "Test error: 21.772955266659842\n",
      "\n",
      "NaiveBayes model with features: ['marital-status']\n",
      "Test error: 23.687173712764864\n",
      "\n",
      "NaiveBayes model with features: ['occupation']\n",
      "Test error: 23.687173712764864\n",
      "\n",
      "NaiveBayes model with features: ['relationship']\n",
      "Test error: 23.687173712764864\n",
      "\n",
      "NaiveBayes model with features: ['race']\n",
      "Test error: 23.687173712764864\n",
      "\n",
      "NaiveBayes model with features: ['sex']\n",
      "Test error: 23.687173712764864\n",
      "\n",
      "NaiveBayes model with features: ['capital-gain']\n",
      "Test error: 20.595762104616643\n",
      "\n",
      "NaiveBayes model with features: ['capital-loss']\n",
      "Test error: 23.43126215579896\n",
      "\n",
      "NaiveBayes model with features: ['hours-per-week']\n",
      "Test error: 23.687173712764864\n",
      "\n",
      "NaiveBayes model with features: ['native-country']\n",
      "Test error: 23.748592486436692\n",
      "\n"
     ]
    }
   ],
   "source": [
    "# Create a Naive Bayes model for each feature individually\n",
    "for col in df:\n",
    "    if col != 'class':\n",
    "        train_test_model(train, test, [col])\n",
    "        print()"
   ]
  },
  {
   "cell_type": "code",
   "execution_count": 69,
   "metadata": {
    "collapsed": false
   },
   "outputs": [
    {
     "name": "stdout",
     "output_type": "stream",
     "text": [
      "NaiveBayes model with features: ['age', 'workclass', 'fnlwgt', 'education', 'education-num', 'marital-status', 'occupation', 'relationship', 'race', 'sex', 'capital-gain', 'capital-loss', 'hours-per-week', 'native-country']\n",
      "Test error: 16.480704268604775\n"
     ]
    }
   ],
   "source": [
    "# Test on all features\n",
    "train_test_model(train, test, features)"
   ]
  },
  {
   "cell_type": "code",
   "execution_count": null,
   "metadata": {
    "collapsed": true
   },
   "outputs": [],
   "source": []
  }
 ],
 "metadata": {
  "kernelspec": {
   "display_name": "Python 3",
   "language": "python",
   "name": "python3"
  },
  "language_info": {
   "codemirror_mode": {
    "name": "ipython",
    "version": 3
   },
   "file_extension": ".py",
   "mimetype": "text/x-python",
   "name": "python",
   "nbconvert_exporter": "python",
   "pygments_lexer": "ipython3",
   "version": "3.4.3"
  }
 },
 "nbformat": 4,
 "nbformat_minor": 0
}
